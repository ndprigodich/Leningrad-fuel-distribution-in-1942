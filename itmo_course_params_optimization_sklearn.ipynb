{
  "nbformat": 4,
  "nbformat_minor": 0,
  "metadata": {
    "colab": {
      "provenance": [],
      "toc_visible": true
    },
    "kernelspec": {
      "name": "python3",
      "display_name": "Python 3"
    },
    "language_info": {
      "name": "python"
    }
  },
  "cells": [
    {
      "cell_type": "code",
      "execution_count": 1,
      "metadata": {
        "id": "J-58k9oKaQt6"
      },
      "outputs": [],
      "source": [
        "import numpy as np\n",
        "import pandas as pd\n",
        "\n",
        "from sklearn.datasets import load_breast_cancer \n",
        "from sklearn.model_selection import train_test_split \n",
        "from sklearn.linear_model import LogisticRegression\n",
        "from sklearn.preprocessing import StandardScaler\n",
        "from sklearn.metrics import classification_report\n",
        "\n",
        "import matplotlib.pyplot as plt"
      ]
    },
    {
      "cell_type": "code",
      "source": [
        "plt.rcParams[\"figure.figsize\"] = (12, 8)"
      ],
      "metadata": {
        "id": "d_H3T5vOeAu1"
      },
      "execution_count": 2,
      "outputs": []
    },
    {
      "cell_type": "markdown",
      "source": [
        "## �����������"
      ],
      "metadata": {
        "id": "MlbM3BTUaelm"
      }
    },
    {
      "cell_type": "markdown",
      "source": [
        "**��������������** - ��������� ����������, �������� ������� ��������������� ����� �������� �������� ��������.\n",
        "\n",
        "**���������** �������� ����������� �� ����� ��������.\n",
        "\n",
        "�������������� ��������� ������������ ������� �� ������ � �������� ��������, ������� ������������� ��������� �� ������ �������"
      ],
      "metadata": {
        "id": "m__eiBuXeTUl"
      }
    },
    {
      "cell_type": "markdown",
      "source": [
        "## ���������� ������"
      ],
      "metadata": {
        "id": "cPWFahWXbYvc"
      }
    },
    {
      "cell_type": "code",
      "source": [
        "X, y = load_breast_cancer(return_X_y=True, as_frame=True)\n",
        "y = 1 - y\n",
        "X_train, X_test, y_train, y_test = train_test_split(X, y, random_state=2023, test_size=0.25)"
      ],
      "metadata": {
        "id": "SpSo5KItaVTO"
      },
      "execution_count": 3,
      "outputs": []
    },
    {
      "cell_type": "markdown",
      "source": [
        "## Grid Search"
      ],
      "metadata": {
        "id": "VmaivHsuagN1"
      }
    },
    {
      "cell_type": "code",
      "source": [
        "from sklearn.pipeline import Pipeline\n",
        "from sklearn.model_selection import GridSearchCV"
      ],
      "metadata": {
        "id": "syhsjxoZdHl5"
      },
      "execution_count": 4,
      "outputs": []
    },
    {
      "cell_type": "code",
      "source": [
        "pipeline = Pipeline(\n",
        "    [\n",
        "        (\"scaler\", StandardScaler()),\n",
        "        (\"clf\", LogisticRegression()),\n",
        "    ]\n",
        ")"
      ],
      "metadata": {
        "id": "akBxJ_wxe7kI"
      },
      "execution_count": 5,
      "outputs": []
    },
    {
      "cell_type": "code",
      "source": [
        "model = pipeline.fit(X_train, y_train)\n",
        "y_pred_simple = model.predict(X_test)\n",
        "print(classification_report(y_test, y_pred_simple))"
      ],
      "metadata": {
        "colab": {
          "base_uri": "https://localhost:8080/"
        },
        "id": "clp5DPnGgE8t",
        "outputId": "783f532c-6ac0-438f-db46-91869ad524fc"
      },
      "execution_count": 6,
      "outputs": [
        {
          "output_type": "stream",
          "name": "stdout",
          "text": [
            "              precision    recall  f1-score   support\n",
            "\n",
            "           0       0.98      0.99      0.98        90\n",
            "           1       0.98      0.96      0.97        53\n",
            "\n",
            "    accuracy                           0.98       143\n",
            "   macro avg       0.98      0.98      0.98       143\n",
            "weighted avg       0.98      0.98      0.98       143\n",
            "\n"
          ]
        }
      ]
    },
    {
      "cell_type": "markdown",
      "source": [
        "#### ����������� ���������������"
      ],
      "metadata": {
        "id": "5eF6jcVLgQN2"
      }
    },
    {
      "cell_type": "code",
      "source": [
        "parameters = {\n",
        "    'scaler__with_mean': [True, False],\n",
        "    'clf__C': np.linspace(0.01, 1, 10),\n",
        "    'clf__penalty': ['l2', 'none'],\n",
        "    'clf__random_state': [2023],\n",
        "}\n",
        "\n",
        "grid_search = GridSearchCV(\n",
        "    estimator=pipeline,\n",
        "    param_grid=parameters,\n",
        "    n_jobs=2,\n",
        "    verbose=1,\n",
        ")"
      ],
      "metadata": {
        "id": "1fzg2OjPaVWc"
      },
      "execution_count": 7,
      "outputs": []
    },
    {
      "cell_type": "code",
      "source": [
        "%%time\n",
        "\n",
        "grid_search.fit(X_train, y_train)"
      ],
      "metadata": {
        "colab": {
          "base_uri": "https://localhost:8080/"
        },
        "id": "P22nLhKpe19b",
        "outputId": "db9517ab-e374-49d8-e4fb-f5d69e879e0d"
      },
      "execution_count": 8,
      "outputs": [
        {
          "output_type": "stream",
          "name": "stdout",
          "text": [
            "Fitting 5 folds for each of 40 candidates, totalling 200 fits\n",
            "CPU times: user 433 ms, sys: 103 ms, total: 535 ms\n",
            "Wall time: 10.3 s\n"
          ]
        },
        {
          "output_type": "execute_result",
          "data": {
            "text/plain": [
              "GridSearchCV(estimator=Pipeline(steps=[('scaler', StandardScaler()),\n",
              "                                       ('clf', LogisticRegression())]),\n",
              "             n_jobs=2,\n",
              "             param_grid={'clf__C': array([0.01, 0.12, 0.23, 0.34, 0.45, 0.56, 0.67, 0.78, 0.89, 1.  ]),\n",
              "                         'clf__penalty': ['l2', 'none'],\n",
              "                         'clf__random_state': [2023],\n",
              "                         'scaler__with_mean': [True, False]},\n",
              "             verbose=1)"
            ]
          },
          "metadata": {},
          "execution_count": 8
        }
      ]
    },
    {
      "cell_type": "code",
      "source": [
        "best_parameters = grid_search.best_estimator_.get_params()\n",
        "for param_name in sorted(parameters.keys()):\n",
        "    print(f\"{param_name}: {best_parameters[param_name]}\")"
      ],
      "metadata": {
        "colab": {
          "base_uri": "https://localhost:8080/"
        },
        "id": "BdZW1WyTfpPn",
        "outputId": "b6b22bb5-54a0-409e-99b1-1ce44f47b62f"
      },
      "execution_count": 9,
      "outputs": [
        {
          "output_type": "stream",
          "name": "stdout",
          "text": [
            "clf__C: 0.12\n",
            "clf__penalty: l2\n",
            "clf__random_state: 2023\n",
            "scaler__with_mean: True\n"
          ]
        }
      ]
    },
    {
      "cell_type": "code",
      "source": [
        "y_pred_optimized = grid_search.best_estimator_.predict(X_test)\n",
        "print(classification_report(y_test, y_pred_optimized))"
      ],
      "metadata": {
        "colab": {
          "base_uri": "https://localhost:8080/"
        },
        "id": "VrpnrIBQfz95",
        "outputId": "eef1bbcb-795c-4fdb-902e-df4448998360"
      },
      "execution_count": 10,
      "outputs": [
        {
          "output_type": "stream",
          "name": "stdout",
          "text": [
            "              precision    recall  f1-score   support\n",
            "\n",
            "           0       0.99      0.99      0.99        90\n",
            "           1       0.98      0.98      0.98        53\n",
            "\n",
            "    accuracy                           0.99       143\n",
            "   macro avg       0.99      0.99      0.99       143\n",
            "weighted avg       0.99      0.99      0.99       143\n",
            "\n"
          ]
        }
      ]
    },
    {
      "cell_type": "markdown",
      "source": [
        "##  Randomized Search"
      ],
      "metadata": {
        "id": "7vprBg7Aah9l"
      }
    },
    {
      "cell_type": "code",
      "source": [
        "from sklearn.model_selection import RandomizedSearchCV"
      ],
      "metadata": {
        "id": "awXOPrHYl2KL"
      },
      "execution_count": 11,
      "outputs": []
    },
    {
      "cell_type": "code",
      "source": [
        "parameters = {\n",
        "    'scaler__with_mean': [True, False],\n",
        "    'clf__C': np.linspace(0.01, 1, 10),\n",
        "    'clf__penalty': ['l2', 'none'],\n",
        "    'clf__random_state': [2023],\n",
        "}\n",
        "\n",
        "random_search = RandomizedSearchCV(\n",
        "    estimator=pipeline,\n",
        "    param_distributions=parameters,\n",
        "    n_iter=10,\n",
        "    random_state=2023,\n",
        "    n_jobs=4,\n",
        "    verbose=1,\n",
        ")"
      ],
      "metadata": {
        "id": "a2IkxXWYaVYt"
      },
      "execution_count": 12,
      "outputs": []
    },
    {
      "cell_type": "code",
      "source": [
        "%%time\n",
        "\n",
        "random_search.fit(X_train, y_train)"
      ],
      "metadata": {
        "colab": {
          "base_uri": "https://localhost:8080/"
        },
        "id": "vcdVWoGImDnz",
        "outputId": "b76b1fbf-250c-4f4b-e3d0-76429ada993f"
      },
      "execution_count": 13,
      "outputs": [
        {
          "output_type": "stream",
          "name": "stdout",
          "text": [
            "Fitting 5 folds for each of 10 candidates, totalling 50 fits\n",
            "CPU times: user 236 ms, sys: 113 ms, total: 349 ms\n",
            "Wall time: 5.29 s\n"
          ]
        },
        {
          "output_type": "stream",
          "name": "stderr",
          "text": [
            "/usr/local/lib/python3.8/dist-packages/sklearn/linear_model/_logistic.py:814: ConvergenceWarning: lbfgs failed to converge (status=1):\n",
            "STOP: TOTAL NO. of ITERATIONS REACHED LIMIT.\n",
            "\n",
            "Increase the number of iterations (max_iter) or scale the data as shown in:\n",
            "    https://scikit-learn.org/stable/modules/preprocessing.html\n",
            "Please also refer to the documentation for alternative solver options:\n",
            "    https://scikit-learn.org/stable/modules/linear_model.html#logistic-regression\n",
            "  n_iter_i = _check_optimize_result(\n"
          ]
        },
        {
          "output_type": "execute_result",
          "data": {
            "text/plain": [
              "RandomizedSearchCV(estimator=Pipeline(steps=[('scaler', StandardScaler()),\n",
              "                                             ('clf', LogisticRegression())]),\n",
              "                   n_jobs=4,\n",
              "                   param_distributions={'clf__C': array([0.01, 0.12, 0.23, 0.34, 0.45, 0.56, 0.67, 0.78, 0.89, 1.  ]),\n",
              "                                        'clf__penalty': ['l2', 'none'],\n",
              "                                        'clf__random_state': [2023],\n",
              "                                        'scaler__with_mean': [True, False]},\n",
              "                   random_state=2023, verbose=1)"
            ]
          },
          "metadata": {},
          "execution_count": 13
        }
      ]
    },
    {
      "cell_type": "code",
      "source": [
        "best_parameters = random_search.best_estimator_.get_params()\n",
        "for param_name in sorted(parameters.keys()):\n",
        "    print(f\"{param_name}: {best_parameters[param_name]}\")"
      ],
      "metadata": {
        "colab": {
          "base_uri": "https://localhost:8080/"
        },
        "id": "PyEEAT9EbThX",
        "outputId": "cb0e62c8-43a5-4c02-9422-2ee0245035c0"
      },
      "execution_count": 14,
      "outputs": [
        {
          "output_type": "stream",
          "name": "stdout",
          "text": [
            "clf__C: 1.0\n",
            "clf__penalty: l2\n",
            "clf__random_state: 2023\n",
            "scaler__with_mean: False\n"
          ]
        }
      ]
    },
    {
      "cell_type": "code",
      "source": [
        "y_pred_optimized = grid_search.best_estimator_.predict(X_test)\n",
        "print(classification_report(y_test, y_pred_optimized))"
      ],
      "metadata": {
        "colab": {
          "base_uri": "https://localhost:8080/"
        },
        "id": "zNM3hLy0lw9M",
        "outputId": "06eae4ad-8c5b-499a-fe80-a4f10dae906f"
      },
      "execution_count": 15,
      "outputs": [
        {
          "output_type": "stream",
          "name": "stdout",
          "text": [
            "              precision    recall  f1-score   support\n",
            "\n",
            "           0       0.99      0.99      0.99        90\n",
            "           1       0.98      0.98      0.98        53\n",
            "\n",
            "    accuracy                           0.99       143\n",
            "   macro avg       0.99      0.99      0.99       143\n",
            "weighted avg       0.99      0.99      0.99       143\n",
            "\n"
          ]
        }
      ]
    },
    {
      "cell_type": "markdown",
      "source": [
        "## Halving Grid Search"
      ],
      "metadata": {
        "id": "hGfbW2y4bT38"
      }
    },
    {
      "cell_type": "code",
      "source": [
        "from sklearn.experimental import enable_halving_search_cv\n",
        "from sklearn.model_selection import HalvingRandomSearchCV\n",
        "from sklearn.datasets import make_classification\n",
        "from sklearn.ensemble import RandomForestClassifier"
      ],
      "metadata": {
        "id": "be5FAD5xbTnP"
      },
      "execution_count": 16,
      "outputs": []
    },
    {
      "cell_type": "code",
      "source": [
        "%%time\n",
        "\n",
        "X, y = make_classification(n_samples=400, n_features=12, random_state=0)\n",
        "\n",
        "clf = RandomForestClassifier(n_estimators=20, random_state=0)\n",
        "\n",
        "param_dist = {\n",
        "    \"max_depth\": [3, None],\n",
        "    \"max_features\": np.arange(1, 6),\n",
        "    \"min_samples_split\": np.arange(2, 11),\n",
        "    \"bootstrap\": [True, False],\n",
        "    \"criterion\": [\"gini\", \"entropy\"],\n",
        "}\n",
        "\n",
        "rsh = HalvingRandomSearchCV(\n",
        "    estimator=clf,\n",
        "    param_distributions=param_dist, \n",
        "    factor=2, \n",
        "    random_state=0,\n",
        ")\n",
        "rsh.fit(X, y)"
      ],
      "metadata": {
        "colab": {
          "base_uri": "https://localhost:8080/"
        },
        "id": "rwmNR-q7bTqN",
        "outputId": "0c9c42c8-cfcc-4924-a8ef-b8411f7c6fab"
      },
      "execution_count": 17,
      "outputs": [
        {
          "output_type": "stream",
          "name": "stdout",
          "text": [
            "CPU times: user 10.1 s, sys: 83.4 ms, total: 10.2 s\n",
            "Wall time: 14.7 s\n"
          ]
        },
        {
          "output_type": "execute_result",
          "data": {
            "text/plain": [
              "HalvingRandomSearchCV(estimator=RandomForestClassifier(n_estimators=20,\n",
              "                                                       random_state=0),\n",
              "                      factor=2,\n",
              "                      param_distributions={'bootstrap': [True, False],\n",
              "                                           'criterion': ['gini', 'entropy'],\n",
              "                                           'max_depth': [3, None],\n",
              "                                           'max_features': array([1, 2, 3, 4, 5]),\n",
              "                                           'min_samples_split': array([ 2,  3,  4,  5,  6,  7,  8,  9, 10])},\n",
              "                      random_state=0)"
            ]
          },
          "metadata": {},
          "execution_count": 17
        }
      ]
    },
    {
      "cell_type": "code",
      "source": [
        "results = pd.DataFrame(rsh.cv_results_)\n",
        "results[\"params_str\"] = results.params.apply(str)\n",
        "results.drop_duplicates(subset=(\"params_str\", \"iter\"), inplace=True)\n",
        "mean_scores = results.pivot(\n",
        "    index=\"iter\", \n",
        "    columns=\"params_str\",\n",
        "     values=\"mean_test_score\",\n",
        ")\n",
        "ax = mean_scores.plot(legend=False, alpha=0.6)\n",
        "\n",
        "labels = [\n",
        "    f\"iter={i}\\nn_samples={rsh.n_resources_[i]}\\nn_candidates={rsh.n_candidates_[i]}\"\n",
        "    for i in range(rsh.n_iterations_)\n",
        "]\n",
        "\n",
        "ax.set_xticks(range(rsh.n_iterations_))\n",
        "ax.set_xticklabels(labels, rotation=45, multialignment=\"left\")\n",
        "ax.set_title(\"Scores of candidates over iterations\")\n",
        "ax.set_ylabel(\"Mean test score\", fontsize=15)\n",
        "ax.set_xlabel(\"Iterations\", fontsize=15)\n",
        "plt.tight_layout()\n",
        "plt.grid()\n",
        "plt.show()"
      ],
      "metadata": {
        "colab": {
          "base_uri": "https://localhost:8080/",
          "height": 585
        },
        "id": "rfOHI-vMqd18",
        "outputId": "e0f570a8-aeed-46f1-b7a0-271a8f20bf41"
      },
      "execution_count": 18,
      "outputs": [
        {
          "output_type": "display_data",
          "data": {
            "text/plain": [
              "<Figure size 864x576 with 1 Axes>"
            ],
            "image/png": "[encoded data removed]"
          },
          "metadata": {
            "needs_background": "light"
          }
        }
      ]
    }
  ]
}